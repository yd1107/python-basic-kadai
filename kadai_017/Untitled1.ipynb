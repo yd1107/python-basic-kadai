{
  "cells": [
    {
      "cell_type": "code",
      "execution_count": 1,
      "metadata": {
        "id": "90YSVfEyOTs8"
      },
      "outputs": [
        {
          "name": "stdout",
          "output_type": "stream",
          "text": [
            "森さんは大人です。\n",
            "林さんは大人です。\n",
            "田中さんは大人ではありません。\n",
            "佐藤さんは大人です。\n"
          ]
        }
      ],
      "source": [
        "class Human:\n",
        "  def __init__(self, name, age):\n",
        "    self.name = name\n",
        "    self.age = age\n",
        "\n",
        "  def check_adult(self):\n",
        "    if self.age >= 20:\n",
        "      print(f\"{self.name}さんは大人です。\")\n",
        "    else :\n",
        "      print(f\"{self.name}さんは大人ではありません。\")\n",
        "\n",
        "\n",
        "human_1 = Human(\"森\", 25)\n",
        "human_2 = Human(\"林\", 23)\n",
        "human_3 = Human(\"田中\",15)\n",
        "human_4 = Human(\"佐藤\", 30)\n",
        "\n",
        "humans = [human_1, human_2, human_3, human_4]\n",
        "\n",
        "for human in humans:\n",
        "  human.check_adult()\n",
        "\n"
      ]
    },
    {
      "cell_type": "code",
      "execution_count": null,
      "metadata": {},
      "outputs": [],
      "source": []
    }
  ],
  "metadata": {
    "colab": {
      "provenance": []
    },
    "kernelspec": {
      "display_name": "Python 3.9.6 64-bit",
      "language": "python",
      "name": "python3"
    },
    "language_info": {
      "codemirror_mode": {
        "name": "ipython",
        "version": 3
      },
      "file_extension": ".py",
      "mimetype": "text/x-python",
      "name": "python",
      "nbconvert_exporter": "python",
      "pygments_lexer": "ipython3",
      "version": "3.9.6"
    },
    "vscode": {
      "interpreter": {
        "hash": "31f2aee4e71d21fbe5cf8b01ff0e069b9275f58929596ceb00d14d90e3e16cd6"
      }
    }
  },
  "nbformat": 4,
  "nbformat_minor": 0
}
